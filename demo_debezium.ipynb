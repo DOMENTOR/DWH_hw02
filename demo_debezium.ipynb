{
 "cells": [
  {
   "cell_type": "markdown",
   "id": "6ff64e5e",
   "metadata": {},
   "source": [
    "## Demo Debezuim\n",
    "\n",
    "### Шаг 1\n",
    "\n",
    "На БД `postgres` выполняем\n",
    "```sql\n",
    "select * from pg_stat_replication;\n",
    "```\n",
    "\n",
    "Видим, что ответ пустой; Значит, сейчас репликации нет;\n",
    "\n",
    "Далее выполняем\n",
    "```sql\n",
    "create table public.customers (\n",
    "    id int,\n",
    "    name text\n",
    ");\n",
    "\n",
    "alter table public.customers replica identity full;\n",
    "\n",
    "insert into public.customers (id, name)\n",
    "values\n",
    "    (1, 'ilya'), (2, 'kate'), (3, 'ivan')\n",
    ";\n",
    "```\n",
    "\n",
    "Это будут наши стартовые значения\n",
    "\n",
    "### Шаг 2\n",
    "\n",
    "Настройка debezium"
   ]
  },
  {
   "cell_type": "code",
   "execution_count": 37,
   "id": "e27a9dbc",
   "metadata": {},
   "outputs": [],
   "source": [
    "!rm connector.json"
   ]
  },
  {
   "cell_type": "code",
   "execution_count": 38,
   "id": "047b74f3",
   "metadata": {},
   "outputs": [],
   "source": [
    "import json\n",
    "\n",
    "config = {\n",
    "  \"name\": \"pg-connector\",\n",
    "  \"config\": {\n",
    "    \"connector.class\": \"io.debezium.connector.postgresql.PostgresConnector\",\n",
    "    \"plugin.name\": \"pgoutput\",\n",
    "\n",
    "    \"database.hostname\": \"postgres_master\",\n",
    "    \"database.port\": \"5432\",\n",
    "    \"database.user\": \"postgres\",\n",
    "    \"database.password\": \"postgres\",\n",
    "    \"database.dbname\" : \"postgres\",\n",
    "    \"database.server.name\": \"pg-dev\",\n",
    "\n",
    "    \"table.include.list\": \"system.(.*)\",\n",
    "    \"heartbeat.interval.ms\": \"5000\",\n",
    "    \"slot.name\": \"dbname_debezium\",\n",
    "    \"publication.name\": \"dbname_publication\",\n",
    "    \"decimal.handling.mode\": \"double\",\n",
    "\n",
    "    \"transforms\": \"AddPrefix\",\n",
    "    \"transforms.AddPrefix.type\": \"org.apache.kafka.connect.transforms.RegexRouter\",\n",
    "    \"transforms.AddPrefix.regex\": \"pg-dev.system.(.*)\",\n",
    "    \"transforms.AddPrefix.replacement\": \"data.cdc.dbname\",\n",
    "\n",
    "    \"topic.creation.default.cleanup.policy\": \"delete\",\n",
    "    \"topic.creation.default.partitions\": \"1\",\n",
    "    \"topic.creation.default.replication.factor\": \"1\",\n",
    "    \"topic.creation.default.retention.ms\": \"604800000\",\n",
    "    \"topic.creation.enable\": \"true\",\n",
    "    \"topic.prefix\": \"postgres\"\n",
    "  }\n",
    "}\n",
    "\n",
    "with open('connector.json', 'w') as f:\n",
    "    json.dump(config, f)"
   ]
  },
  {
   "cell_type": "code",
   "execution_count": 39,
   "id": "7ac6b0f5",
   "metadata": {},
   "outputs": [
    {
     "name": "stdout",
     "output_type": "stream",
     "text": [
      "{\"name\":\"pg-connector\",\"config\":{\"connector.class\":\"io.debezium.connector.postgresql.PostgresConnector\",\"plugin.name\":\"pgoutput\",\"database.hostname\":\"postgres_master\",\"database.port\":\"5432\",\"database.user\":\"postgres\",\"database.password\":\"postgres\",\"database.dbname\":\"postgres\",\"database.server.name\":\"pg-dev\",\"table.include.list\":\"system.(.*)\",\"heartbeat.interval.ms\":\"5000\",\"slot.name\":\"dbname_debezium\",\"publication.name\":\"dbname_publication\",\"decimal.handling.mode\":\"double\",\"transforms\":\"AddPrefix\",\"transforms.AddPrefix.type\":\"org.apache.kafka.connect.transforms.RegexRouter\",\"transforms.AddPrefix.regex\":\"pg-dev.system.(.*)\",\"transforms.AddPrefix.replacement\":\"data.cdc.dbname\",\"topic.creation.default.cleanup.policy\":\"delete\",\"topic.creation.default.partitions\":\"1\",\"topic.creation.default.replication.factor\":\"1\",\"topic.creation.default.retention.ms\":\"604800000\",\"topic.creation.enable\":\"true\",\"topic.prefix\":\"postgres\",\"name\":\"pg-connector\"},\"tasks\":[],\"type\":\"source\"}"
     ]
    }
   ],
   "source": [
    "!curl -X POST --location \"http://localhost:8083/connectors\" -H \"Content-Type: application/json\" -H \"Accept: application/json\" -d @connector.json"
   ]
  },
  {
   "cell_type": "markdown",
   "id": "58c5793c",
   "metadata": {},
   "source": [
    "Подключение создалось;<br>\n",
    "Чтобы дополнительно в этом убедиться, можем посмотреть в UI: http://localhost:8080"
   ]
  },
  {
   "cell_type": "markdown",
   "id": "1e2aa894",
   "metadata": {},
   "source": [
    "### Шаг 3\n",
    "\n",
    "Смотрим, что топик в kafka создался"
   ]
  },
  {
   "cell_type": "code",
   "execution_count": 42,
   "id": "98b6192e",
   "metadata": {},
   "outputs": [],
   "source": [
    "!rm clusters.json"
   ]
  },
  {
   "cell_type": "code",
   "execution_count": 43,
   "id": "da29fe3d",
   "metadata": {},
   "outputs": [
    {
     "name": "stdout",
     "output_type": "stream",
     "text": [
      "  % Total    % Received % Xferd  Average Speed   Time    Time     Time  Current\n",
      "                                 Dload  Upload   Total   Spent    Left  Speed\n",
      "100  1001    0  1001    0     0  21134      0 --:--:-- --:--:-- --:--:-- 21297\n"
     ]
    }
   ],
   "source": [
    "# Нас интересует cluster_id\n",
    "\n",
    "!curl http://localhost:8082/v3/clusters -o clusters.json"
   ]
  },
  {
   "cell_type": "code",
   "execution_count": 44,
   "id": "1ba3f0f0",
   "metadata": {},
   "outputs": [
    {
     "data": {
      "text/plain": [
       "{'kind': 'KafkaClusterList',\n",
       " 'metadata': {'self': 'http://rest-proxy:8082/v3/clusters', 'next': None},\n",
       " 'data': [{'kind': 'KafkaCluster',\n",
       "   'metadata': {'self': 'http://rest-proxy:8082/v3/clusters/jKb9BQwbSjyF2VQ5h-3OXg',\n",
       "    'resource_name': 'crn:///kafka=jKb9BQwbSjyF2VQ5h-3OXg'},\n",
       "   'cluster_id': 'jKb9BQwbSjyF2VQ5h-3OXg',\n",
       "   'controller': {'related': 'http://rest-proxy:8082/v3/clusters/jKb9BQwbSjyF2VQ5h-3OXg/brokers/1'},\n",
       "   'acls': {'related': 'http://rest-proxy:8082/v3/clusters/jKb9BQwbSjyF2VQ5h-3OXg/acls'},\n",
       "   'brokers': {'related': 'http://rest-proxy:8082/v3/clusters/jKb9BQwbSjyF2VQ5h-3OXg/brokers'},\n",
       "   'broker_configs': {'related': 'http://rest-proxy:8082/v3/clusters/jKb9BQwbSjyF2VQ5h-3OXg/broker-configs'},\n",
       "   'consumer_groups': {'related': 'http://rest-proxy:8082/v3/clusters/jKb9BQwbSjyF2VQ5h-3OXg/consumer-groups'},\n",
       "   'topics': {'related': 'http://rest-proxy:8082/v3/clusters/jKb9BQwbSjyF2VQ5h-3OXg/topics'},\n",
       "   'partition_reassignments': {'related': 'http://rest-proxy:8082/v3/clusters/jKb9BQwbSjyF2VQ5h-3OXg/topics/-/partitions/-/reassignment'}}]}"
      ]
     },
     "execution_count": 44,
     "metadata": {},
     "output_type": "execute_result"
    }
   ],
   "source": [
    "with open('clusters.json', 'r') as f:\n",
    "    clusters = json.load(f)\n",
    "clusters"
   ]
  },
  {
   "cell_type": "markdown",
   "id": "13bff843",
   "metadata": {},
   "source": [
    "Запоминаем cluster_id = `TCJFECM_Stio2wfa268A5g`"
   ]
  },
  {
   "cell_type": "code",
   "execution_count": 46,
   "id": "a9872237",
   "metadata": {},
   "outputs": [
    {
     "name": "stdout",
     "output_type": "stream",
     "text": [
      "rm: topics.json: No such file or directory\n"
     ]
    }
   ],
   "source": [
    "!rm topics.json"
   ]
  },
  {
   "cell_type": "code",
   "execution_count": 49,
   "id": "68ccd39d",
   "metadata": {},
   "outputs": [
    {
     "name": "stdout",
     "output_type": "stream",
     "text": [
      "  % Total    % Received % Xferd  Average Speed   Time    Time     Time  Current\n",
      "                                 Dload  Upload   Total   Spent    Left  Speed\n",
      "100  3882    0  3882    0     0   114k      0 --:--:-- --:--:-- --:--:--  114k\n"
     ]
    }
   ],
   "source": [
    "!curl http://localhost:8082/v3/clusters/jKb9BQwbSjyF2VQ5h-3OXg/topics -o topics.json"
   ]
  },
  {
   "cell_type": "code",
   "execution_count": 50,
   "id": "e32634c8",
   "metadata": {},
   "outputs": [
    {
     "data": {
      "text/plain": [
       "{'kind': 'KafkaTopicList',\n",
       " 'metadata': {'self': 'http://rest-proxy:8082/v3/clusters/jKb9BQwbSjyF2VQ5h-3OXg/topics',\n",
       "  'next': None},\n",
       " 'data': [{'kind': 'KafkaTopic',\n",
       "   'metadata': {'self': 'http://rest-proxy:8082/v3/clusters/jKb9BQwbSjyF2VQ5h-3OXg/topics/__debezium-heartbeat.postgres',\n",
       "    'resource_name': 'crn:///kafka=jKb9BQwbSjyF2VQ5h-3OXg/topic=__debezium-heartbeat.postgres'},\n",
       "   'cluster_id': 'jKb9BQwbSjyF2VQ5h-3OXg',\n",
       "   'topic_name': '__debezium-heartbeat.postgres',\n",
       "   'is_internal': False,\n",
       "   'replication_factor': 1,\n",
       "   'partitions_count': 1,\n",
       "   'partitions': {'related': 'http://rest-proxy:8082/v3/clusters/jKb9BQwbSjyF2VQ5h-3OXg/topics/__debezium-heartbeat.postgres/partitions'},\n",
       "   'configs': {'related': 'http://rest-proxy:8082/v3/clusters/jKb9BQwbSjyF2VQ5h-3OXg/topics/__debezium-heartbeat.postgres/configs'},\n",
       "   'partition_reassignments': {'related': 'http://rest-proxy:8082/v3/clusters/jKb9BQwbSjyF2VQ5h-3OXg/topics/__debezium-heartbeat.postgres/partitions/-/reassignment'},\n",
       "   'authorized_operations': []},\n",
       "  {'kind': 'KafkaTopic',\n",
       "   'metadata': {'self': 'http://rest-proxy:8082/v3/clusters/jKb9BQwbSjyF2VQ5h-3OXg/topics/_schemas',\n",
       "    'resource_name': 'crn:///kafka=jKb9BQwbSjyF2VQ5h-3OXg/topic=_schemas'},\n",
       "   'cluster_id': 'jKb9BQwbSjyF2VQ5h-3OXg',\n",
       "   'topic_name': '_schemas',\n",
       "   'is_internal': False,\n",
       "   'replication_factor': 1,\n",
       "   'partitions_count': 1,\n",
       "   'partitions': {'related': 'http://rest-proxy:8082/v3/clusters/jKb9BQwbSjyF2VQ5h-3OXg/topics/_schemas/partitions'},\n",
       "   'configs': {'related': 'http://rest-proxy:8082/v3/clusters/jKb9BQwbSjyF2VQ5h-3OXg/topics/_schemas/configs'},\n",
       "   'partition_reassignments': {'related': 'http://rest-proxy:8082/v3/clusters/jKb9BQwbSjyF2VQ5h-3OXg/topics/_schemas/partitions/-/reassignment'},\n",
       "   'authorized_operations': []},\n",
       "  {'kind': 'KafkaTopic',\n",
       "   'metadata': {'self': 'http://rest-proxy:8082/v3/clusters/jKb9BQwbSjyF2VQ5h-3OXg/topics/connect_configs',\n",
       "    'resource_name': 'crn:///kafka=jKb9BQwbSjyF2VQ5h-3OXg/topic=connect_configs'},\n",
       "   'cluster_id': 'jKb9BQwbSjyF2VQ5h-3OXg',\n",
       "   'topic_name': 'connect_configs',\n",
       "   'is_internal': False,\n",
       "   'replication_factor': 1,\n",
       "   'partitions_count': 1,\n",
       "   'partitions': {'related': 'http://rest-proxy:8082/v3/clusters/jKb9BQwbSjyF2VQ5h-3OXg/topics/connect_configs/partitions'},\n",
       "   'configs': {'related': 'http://rest-proxy:8082/v3/clusters/jKb9BQwbSjyF2VQ5h-3OXg/topics/connect_configs/configs'},\n",
       "   'partition_reassignments': {'related': 'http://rest-proxy:8082/v3/clusters/jKb9BQwbSjyF2VQ5h-3OXg/topics/connect_configs/partitions/-/reassignment'},\n",
       "   'authorized_operations': []},\n",
       "  {'kind': 'KafkaTopic',\n",
       "   'metadata': {'self': 'http://rest-proxy:8082/v3/clusters/jKb9BQwbSjyF2VQ5h-3OXg/topics/connect_offsets',\n",
       "    'resource_name': 'crn:///kafka=jKb9BQwbSjyF2VQ5h-3OXg/topic=connect_offsets'},\n",
       "   'cluster_id': 'jKb9BQwbSjyF2VQ5h-3OXg',\n",
       "   'topic_name': 'connect_offsets',\n",
       "   'is_internal': False,\n",
       "   'replication_factor': 1,\n",
       "   'partitions_count': 25,\n",
       "   'partitions': {'related': 'http://rest-proxy:8082/v3/clusters/jKb9BQwbSjyF2VQ5h-3OXg/topics/connect_offsets/partitions'},\n",
       "   'configs': {'related': 'http://rest-proxy:8082/v3/clusters/jKb9BQwbSjyF2VQ5h-3OXg/topics/connect_offsets/configs'},\n",
       "   'partition_reassignments': {'related': 'http://rest-proxy:8082/v3/clusters/jKb9BQwbSjyF2VQ5h-3OXg/topics/connect_offsets/partitions/-/reassignment'},\n",
       "   'authorized_operations': []},\n",
       "  {'kind': 'KafkaTopic',\n",
       "   'metadata': {'self': 'http://rest-proxy:8082/v3/clusters/jKb9BQwbSjyF2VQ5h-3OXg/topics/connect_statuses',\n",
       "    'resource_name': 'crn:///kafka=jKb9BQwbSjyF2VQ5h-3OXg/topic=connect_statuses'},\n",
       "   'cluster_id': 'jKb9BQwbSjyF2VQ5h-3OXg',\n",
       "   'topic_name': 'connect_statuses',\n",
       "   'is_internal': False,\n",
       "   'replication_factor': 1,\n",
       "   'partitions_count': 5,\n",
       "   'partitions': {'related': 'http://rest-proxy:8082/v3/clusters/jKb9BQwbSjyF2VQ5h-3OXg/topics/connect_statuses/partitions'},\n",
       "   'configs': {'related': 'http://rest-proxy:8082/v3/clusters/jKb9BQwbSjyF2VQ5h-3OXg/topics/connect_statuses/configs'},\n",
       "   'partition_reassignments': {'related': 'http://rest-proxy:8082/v3/clusters/jKb9BQwbSjyF2VQ5h-3OXg/topics/connect_statuses/partitions/-/reassignment'},\n",
       "   'authorized_operations': []}]}"
      ]
     },
     "execution_count": 50,
     "metadata": {},
     "output_type": "execute_result"
    }
   ],
   "source": [
    "with open('topics.json', 'r') as f:\n",
    "    topics = json.load(f)\n",
    "topics"
   ]
  },
  {
   "cell_type": "code",
   "execution_count": 51,
   "id": "05460da7",
   "metadata": {},
   "outputs": [
    {
     "name": "stdout",
     "output_type": "stream",
     "text": [
      "__debezium-heartbeat.postgres\n",
      "_schemas\n",
      "connect_configs\n",
      "connect_offsets\n",
      "connect_statuses\n"
     ]
    }
   ],
   "source": [
    "for i in topics['data']:\n",
    "    print(i['topic_name'])"
   ]
  },
  {
   "cell_type": "markdown",
   "id": "5e2d4064",
   "metadata": {},
   "source": [
    "### Шаг 3\n",
    "\n",
    "Видим, что при init для таблицы, в которой у нас уже были строки, уже создался топик<br>\n",
    "Давайте посмотрим, что туда записалось"
   ]
  },
  {
   "cell_type": "code",
   "execution_count": 60,
   "id": "e11e7451",
   "metadata": {},
   "outputs": [
    {
     "name": "stdout",
     "output_type": "stream",
     "text": [
      "Found existing installation: kafka-python 2.0.3.dev0\n",
      "Uninstalling kafka-python-2.0.3.dev0:\n",
      "  Would remove:\n",
      "    /Library/Frameworks/Python.framework/Versions/3.13/lib/python3.13/site-packages/kafka/*\n",
      "    /Library/Frameworks/Python.framework/Versions/3.13/lib/python3.13/site-packages/kafka_python-2.0.3.dev0.dist-info/*\n",
      "  Would not remove (might be manually added):\n",
      "    /Library/Frameworks/Python.framework/Versions/3.13/lib/python3.13/site-packages/kafka/client.py\n",
      "    /Library/Frameworks/Python.framework/Versions/3.13/lib/python3.13/site-packages/kafka/common.py\n",
      "    /Library/Frameworks/Python.framework/Versions/3.13/lib/python3.13/site-packages/kafka/consumer/base.py\n",
      "    /Library/Frameworks/Python.framework/Versions/3.13/lib/python3.13/site-packages/kafka/consumer/multiprocess.py\n",
      "    /Library/Frameworks/Python.framework/Versions/3.13/lib/python3.13/site-packages/kafka/consumer/simple.py\n",
      "    /Library/Frameworks/Python.framework/Versions/3.13/lib/python3.13/site-packages/kafka/context.py\n",
      "    /Library/Frameworks/Python.framework/Versions/3.13/lib/python3.13/site-packages/kafka/partitioner/base.py\n",
      "    /Library/Frameworks/Python.framework/Versions/3.13/lib/python3.13/site-packages/kafka/partitioner/hashed.py\n",
      "    /Library/Frameworks/Python.framework/Versions/3.13/lib/python3.13/site-packages/kafka/partitioner/roundrobin.py\n",
      "    /Library/Frameworks/Python.framework/Versions/3.13/lib/python3.13/site-packages/kafka/producer/base.py\n",
      "    /Library/Frameworks/Python.framework/Versions/3.13/lib/python3.13/site-packages/kafka/producer/keyed.py\n",
      "    /Library/Frameworks/Python.framework/Versions/3.13/lib/python3.13/site-packages/kafka/producer/simple.py\n",
      "    /Library/Frameworks/Python.framework/Versions/3.13/lib/python3.13/site-packages/kafka/protocol/legacy.py\n",
      "Proceed (Y/n)? ^C\n",
      "\u001b[31mERROR: Operation cancelled by user\u001b[0m\u001b[31m\n",
      "\u001b[0m"
     ]
    }
   ],
   "source": [
    "!pip3 uninstall kafka-python"
   ]
  },
  {
   "cell_type": "code",
   "execution_count": 59,
   "id": "6f72d670",
   "metadata": {},
   "outputs": [
    {
     "name": "stdout",
     "output_type": "stream",
     "text": [
      "Collecting git+https://github.com/dpkp/kafka-python.git\n",
      "  Cloning https://github.com/dpkp/kafka-python.git to /private/var/folders/jc/7p1wm2qs3lx5blkvy2tsr9l80000gn/T/pip-req-build-vxa72xdq\n",
      "  Running command git clone --filter=blob:none --quiet https://github.com/dpkp/kafka-python.git /private/var/folders/jc/7p1wm2qs3lx5blkvy2tsr9l80000gn/T/pip-req-build-vxa72xdq\n",
      "  Resolved https://github.com/dpkp/kafka-python.git to commit a6d0579d3cadd3826dd364b01bc12a2173139abc\n",
      "  Preparing metadata (setup.py) ... \u001b[?25ldone\n",
      "\u001b[?25h"
     ]
    }
   ],
   "source": [
    "!pip3 install git+https://github.com/dpkp/kafka-python.git"
   ]
  },
  {
   "cell_type": "code",
   "execution_count": 63,
   "id": "45d3b570",
   "metadata": {},
   "outputs": [],
   "source": [
    "import sys\n",
    "\n",
    "if sys.version_info >= (3, 12, 0):\n",
    "    import six\n",
    "    sys.modules['kafka.vendor.six.moves'] = six.moves\n",
    "\n",
    "\n",
    "from kafka import KafkaConsumer, KafkaProducer\n"
   ]
  },
  {
   "cell_type": "code",
   "execution_count": 64,
   "id": "3711ef49",
   "metadata": {},
   "outputs": [],
   "source": [
    "import json\n",
    "from kafka import KafkaConsumer\n",
    "\n",
    "KAFKA_HOST = \"localhost\"\n",
    "KAFKA_CONSUMER_GROUP = \"backend\"\n",
    "\n",
    "def read_single_message(topic=None):\n",
    "    assert topic is not None, 'You must specify topic name'\n",
    "    \n",
    "    consumer = KafkaConsumer(\n",
    "        bootstrap_servers=f\"{KAFKA_HOST}:9092\",\n",
    "        value_deserializer=lambda v: v if v is None else json.loads( v.decode(\"utf-8\") ),\n",
    "        auto_offset_reset=\"earliest\",\n",
    "        group_id=KAFKA_CONSUMER_GROUP\n",
    "    )\n",
    "    consumer.subscribe(topics=topic)\n",
    "\n",
    "    try:\n",
    "        for message in consumer:\n",
    "            value = message.value\n",
    "            return value\n",
    "    except Exception as e:\n",
    "            print(\"Closing consumer due to error\\n\")\n",
    "            consumer.close()\n",
    "            raise e\n",
    "    finally:\n",
    "        print(\"Closing consumer due to finish\\n\")\n",
    "        consumer.close()"
   ]
  },
  {
   "cell_type": "code",
   "execution_count": 67,
   "id": "c2968623",
   "metadata": {},
   "outputs": [
    {
     "name": "stdout",
     "output_type": "stream",
     "text": [
      "Closing consumer due to finish\n",
      "\n"
     ]
    },
    {
     "ename": "KeyboardInterrupt",
     "evalue": "",
     "output_type": "error",
     "traceback": [
      "\u001b[0;31m---------------------------------------------------------------------------\u001b[0m",
      "\u001b[0;31mKeyboardInterrupt\u001b[0m                         Traceback (most recent call last)",
      "Cell \u001b[0;32mIn[67], line 1\u001b[0m\n\u001b[0;32m----> 1\u001b[0m value \u001b[38;5;241m=\u001b[39m \u001b[43mread_single_message\u001b[49m\u001b[43m(\u001b[49m\u001b[38;5;124;43m'\u001b[39;49m\u001b[38;5;124;43mpostgres.system.tickets\u001b[39;49m\u001b[38;5;124;43m'\u001b[39;49m\u001b[43m)\u001b[49m\n\u001b[1;32m      2\u001b[0m value\n",
      "Cell \u001b[0;32mIn[64], line 19\u001b[0m, in \u001b[0;36mread_single_message\u001b[0;34m(topic)\u001b[0m\n\u001b[1;32m     16\u001b[0m consumer\u001b[38;5;241m.\u001b[39msubscribe(topics\u001b[38;5;241m=\u001b[39mtopic)\n\u001b[1;32m     18\u001b[0m \u001b[38;5;28;01mtry\u001b[39;00m:\n\u001b[0;32m---> 19\u001b[0m \u001b[43m    \u001b[49m\u001b[38;5;28;43;01mfor\u001b[39;49;00m\u001b[43m \u001b[49m\u001b[43mmessage\u001b[49m\u001b[43m \u001b[49m\u001b[38;5;129;43;01min\u001b[39;49;00m\u001b[43m \u001b[49m\u001b[43mconsumer\u001b[49m\u001b[43m:\u001b[49m\n\u001b[1;32m     20\u001b[0m \u001b[43m        \u001b[49m\u001b[43mvalue\u001b[49m\u001b[43m \u001b[49m\u001b[38;5;241;43m=\u001b[39;49m\u001b[43m \u001b[49m\u001b[43mmessage\u001b[49m\u001b[38;5;241;43m.\u001b[39;49m\u001b[43mvalue\u001b[49m\n\u001b[1;32m     21\u001b[0m \u001b[43m        \u001b[49m\u001b[38;5;28;43;01mreturn\u001b[39;49;00m\u001b[43m \u001b[49m\u001b[43mvalue\u001b[49m\n",
      "File \u001b[0;32m/Library/Frameworks/Python.framework/Versions/3.13/lib/python3.13/site-packages/kafka/consumer/group.py:1197\u001b[0m, in \u001b[0;36mKafkaConsumer.__next__\u001b[0;34m(self)\u001b[0m\n\u001b[1;32m   1195\u001b[0m     \u001b[38;5;28;01mreturn\u001b[39;00m \u001b[38;5;28mself\u001b[39m\u001b[38;5;241m.\u001b[39mnext_v1()\n\u001b[1;32m   1196\u001b[0m \u001b[38;5;28;01melse\u001b[39;00m:\n\u001b[0;32m-> 1197\u001b[0m     \u001b[38;5;28;01mreturn\u001b[39;00m \u001b[38;5;28;43mself\u001b[39;49m\u001b[38;5;241;43m.\u001b[39;49m\u001b[43mnext_v2\u001b[49m\u001b[43m(\u001b[49m\u001b[43m)\u001b[49m\n",
      "File \u001b[0;32m/Library/Frameworks/Python.framework/Versions/3.13/lib/python3.13/site-packages/kafka/consumer/group.py:1205\u001b[0m, in \u001b[0;36mKafkaConsumer.next_v2\u001b[0;34m(self)\u001b[0m\n\u001b[1;32m   1203\u001b[0m     \u001b[38;5;28mself\u001b[39m\u001b[38;5;241m.\u001b[39m_iterator \u001b[38;5;241m=\u001b[39m \u001b[38;5;28mself\u001b[39m\u001b[38;5;241m.\u001b[39m_message_generator_v2()\n\u001b[1;32m   1204\u001b[0m \u001b[38;5;28;01mtry\u001b[39;00m:\n\u001b[0;32m-> 1205\u001b[0m     \u001b[38;5;28;01mreturn\u001b[39;00m \u001b[38;5;28;43mnext\u001b[39;49m\u001b[43m(\u001b[49m\u001b[38;5;28;43mself\u001b[39;49m\u001b[38;5;241;43m.\u001b[39;49m\u001b[43m_iterator\u001b[49m\u001b[43m)\u001b[49m\n\u001b[1;32m   1206\u001b[0m \u001b[38;5;28;01mexcept\u001b[39;00m \u001b[38;5;167;01mStopIteration\u001b[39;00m:\n\u001b[1;32m   1207\u001b[0m     \u001b[38;5;28mself\u001b[39m\u001b[38;5;241m.\u001b[39m_iterator \u001b[38;5;241m=\u001b[39m \u001b[38;5;28;01mNone\u001b[39;00m\n",
      "File \u001b[0;32m/Library/Frameworks/Python.framework/Versions/3.13/lib/python3.13/site-packages/kafka/consumer/group.py:1120\u001b[0m, in \u001b[0;36mKafkaConsumer._message_generator_v2\u001b[0;34m(self)\u001b[0m\n\u001b[1;32m   1118\u001b[0m \u001b[38;5;28;01mdef\u001b[39;00m \u001b[38;5;21m_message_generator_v2\u001b[39m(\u001b[38;5;28mself\u001b[39m):\n\u001b[1;32m   1119\u001b[0m     timeout_ms \u001b[38;5;241m=\u001b[39m \u001b[38;5;241m1000\u001b[39m \u001b[38;5;241m*\u001b[39m (\u001b[38;5;28mself\u001b[39m\u001b[38;5;241m.\u001b[39m_consumer_timeout \u001b[38;5;241m-\u001b[39m time\u001b[38;5;241m.\u001b[39mtime())\n\u001b[0;32m-> 1120\u001b[0m     record_map \u001b[38;5;241m=\u001b[39m \u001b[38;5;28;43mself\u001b[39;49m\u001b[38;5;241;43m.\u001b[39;49m\u001b[43mpoll\u001b[49m\u001b[43m(\u001b[49m\u001b[43mtimeout_ms\u001b[49m\u001b[38;5;241;43m=\u001b[39;49m\u001b[43mtimeout_ms\u001b[49m\u001b[43m,\u001b[49m\u001b[43m \u001b[49m\u001b[43mupdate_offsets\u001b[49m\u001b[38;5;241;43m=\u001b[39;49m\u001b[38;5;28;43;01mFalse\u001b[39;49;00m\u001b[43m)\u001b[49m\n\u001b[1;32m   1121\u001b[0m     \u001b[38;5;28;01mfor\u001b[39;00m tp, records \u001b[38;5;129;01min\u001b[39;00m six\u001b[38;5;241m.\u001b[39miteritems(record_map):\n\u001b[1;32m   1122\u001b[0m         \u001b[38;5;66;03m# Generators are stateful, and it is possible that the tp / records\u001b[39;00m\n\u001b[1;32m   1123\u001b[0m         \u001b[38;5;66;03m# here may become stale during iteration -- i.e., we seek to a\u001b[39;00m\n\u001b[1;32m   1124\u001b[0m         \u001b[38;5;66;03m# different offset, pause consumption, or lose assignment.\u001b[39;00m\n\u001b[1;32m   1125\u001b[0m         \u001b[38;5;28;01mfor\u001b[39;00m record \u001b[38;5;129;01min\u001b[39;00m records:\n\u001b[1;32m   1126\u001b[0m             \u001b[38;5;66;03m# is_fetchable(tp) should handle assignment changes and offset\u001b[39;00m\n\u001b[1;32m   1127\u001b[0m             \u001b[38;5;66;03m# resets; for all other changes (e.g., seeks) we'll rely on the\u001b[39;00m\n\u001b[1;32m   1128\u001b[0m             \u001b[38;5;66;03m# outer function destroying the existing iterator/generator\u001b[39;00m\n\u001b[1;32m   1129\u001b[0m             \u001b[38;5;66;03m# via self._iterator = None\u001b[39;00m\n",
      "File \u001b[0;32m/Library/Frameworks/Python.framework/Versions/3.13/lib/python3.13/site-packages/kafka/consumer/group.py:657\u001b[0m, in \u001b[0;36mKafkaConsumer.poll\u001b[0;34m(self, timeout_ms, max_records, update_offsets)\u001b[0m\n\u001b[1;32m    655\u001b[0m remaining \u001b[38;5;241m=\u001b[39m timeout_ms\n\u001b[1;32m    656\u001b[0m \u001b[38;5;28;01mwhile\u001b[39;00m \u001b[38;5;129;01mnot\u001b[39;00m \u001b[38;5;28mself\u001b[39m\u001b[38;5;241m.\u001b[39m_closed:\n\u001b[0;32m--> 657\u001b[0m     records \u001b[38;5;241m=\u001b[39m \u001b[38;5;28;43mself\u001b[39;49m\u001b[38;5;241;43m.\u001b[39;49m\u001b[43m_poll_once\u001b[49m\u001b[43m(\u001b[49m\u001b[43mremaining\u001b[49m\u001b[43m,\u001b[49m\u001b[43m \u001b[49m\u001b[43mmax_records\u001b[49m\u001b[43m,\u001b[49m\u001b[43m \u001b[49m\u001b[43mupdate_offsets\u001b[49m\u001b[38;5;241;43m=\u001b[39;49m\u001b[43mupdate_offsets\u001b[49m\u001b[43m)\u001b[49m\n\u001b[1;32m    658\u001b[0m     \u001b[38;5;28;01mif\u001b[39;00m records:\n\u001b[1;32m    659\u001b[0m         \u001b[38;5;28;01mreturn\u001b[39;00m records\n",
      "File \u001b[0;32m/Library/Frameworks/Python.framework/Versions/3.13/lib/python3.13/site-packages/kafka/consumer/group.py:706\u001b[0m, in \u001b[0;36mKafkaConsumer._poll_once\u001b[0;34m(self, timeout_ms, max_records, update_offsets)\u001b[0m\n\u001b[1;32m    703\u001b[0m     \u001b[38;5;28mself\u001b[39m\u001b[38;5;241m.\u001b[39m_client\u001b[38;5;241m.\u001b[39mpoll(timeout_ms\u001b[38;5;241m=\u001b[39m\u001b[38;5;241m0\u001b[39m)\n\u001b[1;32m    705\u001b[0m timeout_ms \u001b[38;5;241m=\u001b[39m \u001b[38;5;28mmin\u001b[39m(timeout_ms, \u001b[38;5;28mself\u001b[39m\u001b[38;5;241m.\u001b[39m_coordinator\u001b[38;5;241m.\u001b[39mtime_to_next_poll() \u001b[38;5;241m*\u001b[39m \u001b[38;5;241m1000\u001b[39m)\n\u001b[0;32m--> 706\u001b[0m \u001b[38;5;28;43mself\u001b[39;49m\u001b[38;5;241;43m.\u001b[39;49m\u001b[43m_client\u001b[49m\u001b[38;5;241;43m.\u001b[39;49m\u001b[43mpoll\u001b[49m\u001b[43m(\u001b[49m\u001b[43mtimeout_ms\u001b[49m\u001b[38;5;241;43m=\u001b[39;49m\u001b[43mtimeout_ms\u001b[49m\u001b[43m)\u001b[49m\n\u001b[1;32m    707\u001b[0m \u001b[38;5;66;03m# after the long poll, we should check whether the group needs to rebalance\u001b[39;00m\n\u001b[1;32m    708\u001b[0m \u001b[38;5;66;03m# prior to returning data so that the group can stabilize faster\u001b[39;00m\n\u001b[1;32m    709\u001b[0m \u001b[38;5;28;01mif\u001b[39;00m \u001b[38;5;28mself\u001b[39m\u001b[38;5;241m.\u001b[39m_coordinator\u001b[38;5;241m.\u001b[39mneed_rejoin():\n",
      "File \u001b[0;32m/Library/Frameworks/Python.framework/Versions/3.13/lib/python3.13/site-packages/kafka/client_async.py:602\u001b[0m, in \u001b[0;36mKafkaClient.poll\u001b[0;34m(self, timeout_ms, future)\u001b[0m\n\u001b[1;32m    599\u001b[0m             timeout \u001b[38;5;241m=\u001b[39m \u001b[38;5;28mmin\u001b[39m(timeout, \u001b[38;5;28mself\u001b[39m\u001b[38;5;241m.\u001b[39mconfig[\u001b[38;5;124m'\u001b[39m\u001b[38;5;124mretry_backoff_ms\u001b[39m\u001b[38;5;124m'\u001b[39m])\n\u001b[1;32m    600\u001b[0m         timeout \u001b[38;5;241m=\u001b[39m \u001b[38;5;28mmax\u001b[39m(\u001b[38;5;241m0\u001b[39m, timeout)  \u001b[38;5;66;03m# avoid negative timeouts\u001b[39;00m\n\u001b[0;32m--> 602\u001b[0m     \u001b[38;5;28;43mself\u001b[39;49m\u001b[38;5;241;43m.\u001b[39;49m\u001b[43m_poll\u001b[49m\u001b[43m(\u001b[49m\u001b[43mtimeout\u001b[49m\u001b[43m \u001b[49m\u001b[38;5;241;43m/\u001b[39;49m\u001b[43m \u001b[49m\u001b[38;5;241;43m1000\u001b[39;49m\u001b[43m)\u001b[49m\n\u001b[1;32m    604\u001b[0m \u001b[38;5;66;03m# called without the lock to avoid deadlock potential\u001b[39;00m\n\u001b[1;32m    605\u001b[0m \u001b[38;5;66;03m# if handlers need to acquire locks\u001b[39;00m\n\u001b[1;32m    606\u001b[0m responses\u001b[38;5;241m.\u001b[39mextend(\u001b[38;5;28mself\u001b[39m\u001b[38;5;241m.\u001b[39m_fire_pending_completed_requests())\n",
      "File \u001b[0;32m/Library/Frameworks/Python.framework/Versions/3.13/lib/python3.13/site-packages/kafka/client_async.py:634\u001b[0m, in \u001b[0;36mKafkaClient._poll\u001b[0;34m(self, timeout)\u001b[0m\n\u001b[1;32m    631\u001b[0m \u001b[38;5;28mself\u001b[39m\u001b[38;5;241m.\u001b[39m_register_send_sockets()\n\u001b[1;32m    633\u001b[0m start_select \u001b[38;5;241m=\u001b[39m time\u001b[38;5;241m.\u001b[39mtime()\n\u001b[0;32m--> 634\u001b[0m ready \u001b[38;5;241m=\u001b[39m \u001b[38;5;28;43mself\u001b[39;49m\u001b[38;5;241;43m.\u001b[39;49m\u001b[43m_selector\u001b[49m\u001b[38;5;241;43m.\u001b[39;49m\u001b[43mselect\u001b[49m\u001b[43m(\u001b[49m\u001b[43mtimeout\u001b[49m\u001b[43m)\u001b[49m\n\u001b[1;32m    635\u001b[0m end_select \u001b[38;5;241m=\u001b[39m time\u001b[38;5;241m.\u001b[39mtime()\n\u001b[1;32m    636\u001b[0m \u001b[38;5;28;01mif\u001b[39;00m \u001b[38;5;28mself\u001b[39m\u001b[38;5;241m.\u001b[39m_sensors:\n",
      "File \u001b[0;32m/Library/Frameworks/Python.framework/Versions/3.13/lib/python3.13/selectors.py:548\u001b[0m, in \u001b[0;36mKqueueSelector.select\u001b[0;34m(self, timeout)\u001b[0m\n\u001b[1;32m    546\u001b[0m ready \u001b[38;5;241m=\u001b[39m []\n\u001b[1;32m    547\u001b[0m \u001b[38;5;28;01mtry\u001b[39;00m:\n\u001b[0;32m--> 548\u001b[0m     kev_list \u001b[38;5;241m=\u001b[39m \u001b[38;5;28;43mself\u001b[39;49m\u001b[38;5;241;43m.\u001b[39;49m\u001b[43m_selector\u001b[49m\u001b[38;5;241;43m.\u001b[39;49m\u001b[43mcontrol\u001b[49m\u001b[43m(\u001b[49m\u001b[38;5;28;43;01mNone\u001b[39;49;00m\u001b[43m,\u001b[49m\u001b[43m \u001b[49m\u001b[43mmax_ev\u001b[49m\u001b[43m,\u001b[49m\u001b[43m \u001b[49m\u001b[43mtimeout\u001b[49m\u001b[43m)\u001b[49m\n\u001b[1;32m    549\u001b[0m \u001b[38;5;28;01mexcept\u001b[39;00m \u001b[38;5;167;01mInterruptedError\u001b[39;00m:\n\u001b[1;32m    550\u001b[0m     \u001b[38;5;28;01mreturn\u001b[39;00m ready\n",
      "\u001b[0;31mKeyboardInterrupt\u001b[0m: "
     ]
    }
   ],
   "source": [
    "value = read_single_message('postgres.system.tickets')\n",
    "value"
   ]
  },
  {
   "cell_type": "markdown",
   "id": "01647354",
   "metadata": {},
   "source": [
    "Что у нас тут получилось:\n",
    "1) Есть схема сообщения\n",
    "2) Так как все строки новые, то `before` содержит `None`\n",
    "3) В то же время, `after` содержит значения в строке\n",
    "\n",
    "Посмотрим, что происходит при insert\n",
    "Выполним на БД следующий скрипт\n",
    "```sql\n",
    "insert into public.customers (id, name)\n",
    "values\n",
    "    (4, 'david')\n",
    ";\n",
    "```"
   ]
  },
  {
   "cell_type": "code",
   "execution_count": 25,
   "id": "2aa206a7",
   "metadata": {},
   "outputs": [
    {
     "name": "stdout",
     "output_type": "stream",
     "text": [
      "Closing consumer due to finish\n",
      "\n",
      "Closing consumer due to finish\n",
      "\n"
     ]
    }
   ],
   "source": [
    "for i in range(2):\n",
    "    read_single_message('postgres.public.customers')"
   ]
  },
  {
   "cell_type": "code",
   "execution_count": 27,
   "id": "d5fbf03f",
   "metadata": {},
   "outputs": [
    {
     "name": "stdout",
     "output_type": "stream",
     "text": [
      "Closing consumer due to finish\n",
      "\n"
     ]
    },
    {
     "data": {
      "text/plain": [
       "{'before': None,\n",
       " 'after': {'id': 4, 'name': 'david'},\n",
       " 'source': {'version': '2.2.0.Alpha3',\n",
       "  'connector': 'postgresql',\n",
       "  'name': 'postgres',\n",
       "  'ts_ms': 1729014334072,\n",
       "  'snapshot': 'false',\n",
       "  'db': 'postgres',\n",
       "  'sequence': '[null,\"22972784\"]',\n",
       "  'schema': 'public',\n",
       "  'table': 'customers',\n",
       "  'txId': 491,\n",
       "  'lsn': 22972784,\n",
       "  'xmin': None},\n",
       " 'op': 'c',\n",
       " 'ts_ms': 1729014334218,\n",
       " 'transaction': None}"
      ]
     },
     "execution_count": 27,
     "metadata": {},
     "output_type": "execute_result"
    }
   ],
   "source": [
    "value = read_single_message('postgres.public.customers')\n",
    "value['payload']"
   ]
  },
  {
   "cell_type": "markdown",
   "id": "9b818c9a",
   "metadata": {},
   "source": [
    "Получили все то же самое<br>\n",
    "Теперь посмотрим на update\n",
    "```sql\n",
    "update public.customers\n",
    "set name = 'diana'\n",
    "where id = 4;\n",
    "```"
   ]
  },
  {
   "cell_type": "code",
   "execution_count": 29,
   "id": "b6813c99",
   "metadata": {},
   "outputs": [
    {
     "name": "stdout",
     "output_type": "stream",
     "text": [
      "Closing consumer due to finish\n",
      "\n"
     ]
    },
    {
     "data": {
      "text/plain": [
       "{'before': {'id': 4, 'name': 'david'},\n",
       " 'after': {'id': 4, 'name': 'diana'},\n",
       " 'source': {'version': '2.2.0.Alpha3',\n",
       "  'connector': 'postgresql',\n",
       "  'name': 'postgres',\n",
       "  'ts_ms': 1729014380110,\n",
       "  'snapshot': 'false',\n",
       "  'db': 'postgres',\n",
       "  'sequence': '[\"22973104\",\"22973160\"]',\n",
       "  'schema': 'public',\n",
       "  'table': 'customers',\n",
       "  'txId': 492,\n",
       "  'lsn': 22973160,\n",
       "  'xmin': None},\n",
       " 'op': 'u',\n",
       " 'ts_ms': 1729014380246,\n",
       " 'transaction': None}"
      ]
     },
     "execution_count": 29,
     "metadata": {},
     "output_type": "execute_result"
    }
   ],
   "source": [
    "value = read_single_message('postgres.public.customers')\n",
    "value['payload']"
   ]
  },
  {
   "cell_type": "markdown",
   "id": "f28271ad",
   "metadata": {},
   "source": [
    "Что мы имеем:\n",
    "1) `before` содержит старые значения в строке\n",
    "2) `after` содержит новые значения в строке\n",
    "\n",
    "Посмотрим, что произойдет при delete\n",
    "```sql\n",
    "delete\n",
    "from public.customers\n",
    "where id = 4;\n",
    "```"
   ]
  },
  {
   "cell_type": "code",
   "execution_count": 31,
   "id": "cb347e5e",
   "metadata": {},
   "outputs": [
    {
     "name": "stdout",
     "output_type": "stream",
     "text": [
      "Closing consumer due to finish\n",
      "\n"
     ]
    },
    {
     "data": {
      "text/plain": [
       "{'before': {'id': 4, 'name': 'diana'},\n",
       " 'after': None,\n",
       " 'source': {'version': '2.2.0.Alpha3',\n",
       "  'connector': 'postgresql',\n",
       "  'name': 'postgres',\n",
       "  'ts_ms': 1729014420617,\n",
       "  'snapshot': 'false',\n",
       "  'db': 'postgres',\n",
       "  'sequence': '[\"22973304\",\"22973360\"]',\n",
       "  'schema': 'public',\n",
       "  'table': 'customers',\n",
       "  'txId': 493,\n",
       "  'lsn': 22973360,\n",
       "  'xmin': None},\n",
       " 'op': 'd',\n",
       " 'ts_ms': 1729014421006,\n",
       " 'transaction': None}"
      ]
     },
     "execution_count": 31,
     "metadata": {},
     "output_type": "execute_result"
    }
   ],
   "source": [
    "value = read_single_message('postgres.public.customers')\n",
    "value['payload']"
   ]
  },
  {
   "cell_type": "markdown",
   "id": "a16b3fa6",
   "metadata": {},
   "source": [
    "Что мы имеем:\n",
    "1) `before` содержит старые значения в строке\n",
    "2) `after` содержит `None`\n",
    "\n",
    "<b>ВАЖНО:</b> Debezium [не умеет](https://github.com/MaterializeInc/materialize/issues/6596#issuecomment-963479859) в обработку truncate\n",
    "\n",
    "### Шаг 4\n",
    "\n",
    "Посмотрим, что произойдет при создании новой таблицы\n",
    "```sql\n",
    "create table public.stores (\n",
    "    id int,\n",
    "    city text\n",
    ");\n",
    "ALTER TABLE public.stores REPLICA IDENTITY FULL;\n",
    "```"
   ]
  },
  {
   "cell_type": "code",
   "execution_count": 45,
   "id": "5fb5b844",
   "metadata": {},
   "outputs": [],
   "source": [
    "!rm topics.json"
   ]
  },
  {
   "cell_type": "code",
   "execution_count": 47,
   "id": "678b13a1",
   "metadata": {},
   "outputs": [
    {
     "name": "stdout",
     "output_type": "stream",
     "text": [
      "  % Total    % Received % Xferd  Average Speed   Time    Time     Time  Current\n",
      "                                 Dload  Upload   Total   Spent    Left  Speed\n",
      "100  5452    0  5452    0     0   123k      0 --:--:-- --:--:-- --:--:--  123k\n"
     ]
    }
   ],
   "source": [
    "!curl http://localhost:8082/v3/clusters/x7CHkIiVTgiq-_6Ob3dE_A/topics -o topics.json"
   ]
  },
  {
   "cell_type": "code",
   "execution_count": 49,
   "id": "b96574f1",
   "metadata": {},
   "outputs": [
    {
     "name": "stdout",
     "output_type": "stream",
     "text": [
      "__debezium-heartbeat.postgres\n",
      "_schemas\n",
      "connect_configs\n",
      "connect_offsets\n",
      "connect_statuses\n",
      "postgres.public.customers\n",
      "service_backend_feed\n"
     ]
    }
   ],
   "source": [
    "with open('topics.json', 'r') as f:\n",
    "    topics = json.load(f)\n",
    "\n",
    "for i in topics['data']:\n",
    "    print(i['topic_name'])"
   ]
  },
  {
   "cell_type": "markdown",
   "id": "a21be990",
   "metadata": {},
   "source": [
    "Видим, что топика нет<br>\n",
    "Все потому, что таблица пустая<br>\n",
    "Добавим в нее строк\n",
    "```sql\n",
    "insert into public.stores (id, city)\n",
    "values\n",
    "    (1, 'Moscow'),\n",
    "    (2, 'London'),\n",
    "    (3, 'Milano')\n",
    ";\n",
    "```"
   ]
  },
  {
   "cell_type": "code",
   "execution_count": 51,
   "id": "0d6209a7",
   "metadata": {},
   "outputs": [
    {
     "name": "stdout",
     "output_type": "stream",
     "text": [
      "  % Total    % Received % Xferd  Average Speed   Time    Time     Time  Current\n",
      "                                 Dload  Upload   Total   Spent    Left  Speed\n",
      "100  6234    0  6234    0     0  58302      0 --:--:-- --:--:-- --:--:-- 58811\n",
      "__debezium-heartbeat.postgres\n",
      "_schemas\n",
      "connect_configs\n",
      "connect_offsets\n",
      "connect_statuses\n",
      "postgres.public.customers\n",
      "postgres.public.stores\n",
      "service_backend_feed\n"
     ]
    }
   ],
   "source": [
    "!rm topics.json\n",
    "!curl http://localhost:8082/v3/clusters/x7CHkIiVTgiq-_6Ob3dE_A/topics -o topics.json\n",
    "        \n",
    "with open('topics.json', 'r') as f:\n",
    "    topics = json.load(f)\n",
    "\n",
    "for i in topics['data']:\n",
    "    print(i['topic_name'])"
   ]
  },
  {
   "cell_type": "markdown",
   "id": "190a5ab7",
   "metadata": {},
   "source": [
    "Теперь топик есть, и его можно почитать"
   ]
  },
  {
   "cell_type": "code",
   "execution_count": 53,
   "id": "44e31a06",
   "metadata": {},
   "outputs": [
    {
     "name": "stdout",
     "output_type": "stream",
     "text": [
      "Closing consumer due to finish\n",
      "\n",
      "{'before': None, 'after': {'id': 1, 'city': 'Moscow'}, 'source': {'version': '2.2.0.Alpha3', 'connector': 'postgresql', 'name': 'postgres', 'ts_ms': 1729014541776, 'snapshot': 'false', 'db': 'postgres', 'sequence': '[\"23088648\",\"23088704\"]', 'schema': 'public', 'table': 'stores', 'txId': 496, 'lsn': 23088704, 'xmin': None}, 'op': 'c', 'ts_ms': 1729014541922, 'transaction': None}\n",
      "---\n",
      "Closing consumer due to finish\n",
      "\n",
      "{'before': None, 'after': {'id': 2, 'city': 'London'}, 'source': {'version': '2.2.0.Alpha3', 'connector': 'postgresql', 'name': 'postgres', 'ts_ms': 1729014541776, 'snapshot': 'false', 'db': 'postgres', 'sequence': '[\"23088648\",\"23088776\"]', 'schema': 'public', 'table': 'stores', 'txId': 496, 'lsn': 23088776, 'xmin': None}, 'op': 'c', 'ts_ms': 1729014541923, 'transaction': None}\n",
      "---\n",
      "Closing consumer due to finish\n",
      "\n",
      "{'before': None, 'after': {'id': 3, 'city': 'Milano'}, 'source': {'version': '2.2.0.Alpha3', 'connector': 'postgresql', 'name': 'postgres', 'ts_ms': 1729014541776, 'snapshot': 'false', 'db': 'postgres', 'sequence': '[\"23088648\",\"23088848\"]', 'schema': 'public', 'table': 'stores', 'txId': 496, 'lsn': 23088848, 'xmin': None}, 'op': 'c', 'ts_ms': 1729014541923, 'transaction': None}\n",
      "---\n"
     ]
    }
   ],
   "source": [
    "for i in range(3):\n",
    "    value = read_single_message('postgres.public.stores')\n",
    "    print(value['payload'], end='\\n---\\n')"
   ]
  },
  {
   "cell_type": "code",
   "execution_count": null,
   "id": "12bef55f",
   "metadata": {},
   "outputs": [],
   "source": []
  }
 ],
 "metadata": {
  "kernelspec": {
   "display_name": "Python 3",
   "language": "python",
   "name": "python3"
  },
  "language_info": {
   "codemirror_mode": {
    "name": "ipython",
    "version": 3
   },
   "file_extension": ".py",
   "mimetype": "text/x-python",
   "name": "python",
   "nbconvert_exporter": "python",
   "pygments_lexer": "ipython3",
   "version": "3.13.0"
  }
 },
 "nbformat": 4,
 "nbformat_minor": 5
}
